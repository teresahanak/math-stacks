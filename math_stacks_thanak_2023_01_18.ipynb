{
 "cells": [
  {
   "cell_type": "markdown",
   "metadata": {},
   "source": [
    "# Math Stacks\n",
    "**An example project illustrating implementation of stack data structures to evaluate arithmetical expressions from strings such as \"12 / ( 2 + 4 ) * 21\"**"
   ]
  },
  {
   "cell_type": "code",
   "execution_count": 1,
   "metadata": {},
   "outputs": [
    {
     "data": {
      "application/javascript": [
       "\n",
       "            setTimeout(function() {\n",
       "                var nbb_cell_id = 1;\n",
       "                var nbb_unformatted_code = \"# To structure code automatically\\n%load_ext nb_black\";\n",
       "                var nbb_formatted_code = \"# To structure code automatically\\n%load_ext nb_black\";\n",
       "                var nbb_cells = Jupyter.notebook.get_cells();\n",
       "                for (var i = 0; i < nbb_cells.length; ++i) {\n",
       "                    if (nbb_cells[i].input_prompt_number == nbb_cell_id) {\n",
       "                        if (nbb_cells[i].get_text() == nbb_unformatted_code) {\n",
       "                             nbb_cells[i].set_text(nbb_formatted_code);\n",
       "                        }\n",
       "                        break;\n",
       "                    }\n",
       "                }\n",
       "            }, 500);\n",
       "            "
      ],
      "text/plain": [
       "<IPython.core.display.Javascript object>"
      ]
     },
     "metadata": {},
     "output_type": "display_data"
    }
   ],
   "source": [
    "# To structure code automatically\n",
    "%load_ext nb_black"
   ]
  },
  {
   "cell_type": "markdown",
   "metadata": {
    "collapsed": true
   },
   "source": [
    "### Import LinkedList Implementation from `math_stacks_linked_list.py`"
   ]
  },
  {
   "cell_type": "code",
   "execution_count": 2,
   "metadata": {},
   "outputs": [
    {
     "data": {
      "application/javascript": [
       "\n",
       "            setTimeout(function() {\n",
       "                var nbb_cell_id = 2;\n",
       "                var nbb_unformatted_code = \"from math_stacks_linked_list import LinkedList\";\n",
       "                var nbb_formatted_code = \"from math_stacks_linked_list import LinkedList\";\n",
       "                var nbb_cells = Jupyter.notebook.get_cells();\n",
       "                for (var i = 0; i < nbb_cells.length; ++i) {\n",
       "                    if (nbb_cells[i].input_prompt_number == nbb_cell_id) {\n",
       "                        if (nbb_cells[i].get_text() == nbb_unformatted_code) {\n",
       "                             nbb_cells[i].set_text(nbb_formatted_code);\n",
       "                        }\n",
       "                        break;\n",
       "                    }\n",
       "                }\n",
       "            }, 500);\n",
       "            "
      ],
      "text/plain": [
       "<IPython.core.display.Javascript object>"
      ]
     },
     "metadata": {},
     "output_type": "display_data"
    }
   ],
   "source": [
    "from math_stacks_linked_list import LinkedList"
   ]
  },
  {
   "cell_type": "markdown",
   "metadata": {},
   "source": [
    "### Stack Implementation"
   ]
  },
  {
   "cell_type": "code",
   "execution_count": 3,
   "metadata": {},
   "outputs": [
    {
     "data": {
      "application/javascript": [
       "\n",
       "            setTimeout(function() {\n",
       "                var nbb_cell_id = 3;\n",
       "                var nbb_unformatted_code = \"class Stack(LinkedList):\\n    def push(self, value):\\n        self.append(value)\\n\\n    def peek(self):\\n        return self.tail.data\\n\\n    def pop(self):\\n        ret = self.tail.data\\n        if self.length == 1:\\n            self.head = self.tail = None\\n        else:\\n            self.tail = self.tail.prev\\n            self.tail.next = None\\n        self.length -= 1\\n        return ret\";\n",
       "                var nbb_formatted_code = \"class Stack(LinkedList):\\n    def push(self, value):\\n        self.append(value)\\n\\n    def peek(self):\\n        return self.tail.data\\n\\n    def pop(self):\\n        ret = self.tail.data\\n        if self.length == 1:\\n            self.head = self.tail = None\\n        else:\\n            self.tail = self.tail.prev\\n            self.tail.next = None\\n        self.length -= 1\\n        return ret\";\n",
       "                var nbb_cells = Jupyter.notebook.get_cells();\n",
       "                for (var i = 0; i < nbb_cells.length; ++i) {\n",
       "                    if (nbb_cells[i].input_prompt_number == nbb_cell_id) {\n",
       "                        if (nbb_cells[i].get_text() == nbb_unformatted_code) {\n",
       "                             nbb_cells[i].set_text(nbb_formatted_code);\n",
       "                        }\n",
       "                        break;\n",
       "                    }\n",
       "                }\n",
       "            }, 500);\n",
       "            "
      ],
      "text/plain": [
       "<IPython.core.display.Javascript object>"
      ]
     },
     "metadata": {},
     "output_type": "display_data"
    }
   ],
   "source": [
    "class Stack(LinkedList):\n",
    "    def push(self, value):\n",
    "        self.append(value)\n",
    "\n",
    "    def peek(self):\n",
    "        return self.tail.data\n",
    "\n",
    "    def pop(self):\n",
    "        ret = self.tail.data\n",
    "        if self.length == 1:\n",
    "            self.head = self.tail = None\n",
    "        else:\n",
    "            self.tail = self.tail.prev\n",
    "            self.tail.next = None\n",
    "        self.length -= 1\n",
    "        return ret"
   ]
  },
  {
   "cell_type": "markdown",
   "metadata": {},
   "source": [
    "### Evaluating Postfix Expressions (with spaces between tokens)"
   ]
  },
  {
   "cell_type": "markdown",
   "metadata": {},
   "source": [
    "#### Function to Convert Postfix String Expression into List of Tokens"
   ]
  },
  {
   "cell_type": "code",
   "execution_count": 4,
   "metadata": {},
   "outputs": [
    {
     "name": "stdout",
     "output_type": "stream",
     "text": [
      "['12', '2', '4', '+', '/', '21', '*']\n"
     ]
    },
    {
     "data": {
      "application/javascript": [
       "\n",
       "            setTimeout(function() {\n",
       "                var nbb_cell_id = 4;\n",
       "                var nbb_unformatted_code = \"def tokenize(postfix_str):\\n    return postfix_str.split()\\n\\n\\n# Testing tokenize\\nexpression = \\\"12 2 4 + / 21 *\\\"\\ntokens = expression.split()\\nprint(tokens)\";\n",
       "                var nbb_formatted_code = \"def tokenize(postfix_str):\\n    return postfix_str.split()\\n\\n\\n# Testing tokenize\\nexpression = \\\"12 2 4 + / 21 *\\\"\\ntokens = expression.split()\\nprint(tokens)\";\n",
       "                var nbb_cells = Jupyter.notebook.get_cells();\n",
       "                for (var i = 0; i < nbb_cells.length; ++i) {\n",
       "                    if (nbb_cells[i].input_prompt_number == nbb_cell_id) {\n",
       "                        if (nbb_cells[i].get_text() == nbb_unformatted_code) {\n",
       "                             nbb_cells[i].set_text(nbb_formatted_code);\n",
       "                        }\n",
       "                        break;\n",
       "                    }\n",
       "                }\n",
       "            }, 500);\n",
       "            "
      ],
      "text/plain": [
       "<IPython.core.display.Javascript object>"
      ]
     },
     "metadata": {},
     "output_type": "display_data"
    }
   ],
   "source": [
    "def tokenize(postfix_str):\n",
    "    return postfix_str.split()\n",
    "\n",
    "\n",
    "# Testing tokenize\n",
    "expression = \"12 2 4 + / 21 *\"\n",
    "tokens = expression.split()\n",
    "print(tokens)"
   ]
  },
  {
   "cell_type": "markdown",
   "metadata": {},
   "source": [
    "#### Function to Perform Arithmetic Operations on Postfix String Expression"
   ]
  },
  {
   "cell_type": "code",
   "execution_count": 5,
   "metadata": {},
   "outputs": [
    {
     "data": {
      "application/javascript": [
       "\n",
       "            setTimeout(function() {\n",
       "                var nbb_cell_id = 5;\n",
       "                var nbb_unformatted_code = \"def execute_postfix(postfix_str):\\n\\n    tokens = tokenize(postfix_str)\\n    math_stack = Stack()\\n\\n    for token in tokens:\\n        if token.isnumeric():\\n            math_stack.push(float(token))\\n        else:\\n            val2 = math_stack.pop()\\n            val1 = math_stack.pop()\\n\\n            if token == \\\"+\\\":\\n                math_stack.push(val1 + val2)\\n            elif token == \\\"-\\\":\\n                math_stack.push(val1 - val2)\\n            elif token == \\\"*\\\":\\n                math_stack.push(val1 * val2)\\n            elif token == \\\"/\\\":\\n                math_stack.push(val1 / val2)\\n\\n    return math_stack.tail.data\";\n",
       "                var nbb_formatted_code = \"def execute_postfix(postfix_str):\\n\\n    tokens = tokenize(postfix_str)\\n    math_stack = Stack()\\n\\n    for token in tokens:\\n        if token.isnumeric():\\n            math_stack.push(float(token))\\n        else:\\n            val2 = math_stack.pop()\\n            val1 = math_stack.pop()\\n\\n            if token == \\\"+\\\":\\n                math_stack.push(val1 + val2)\\n            elif token == \\\"-\\\":\\n                math_stack.push(val1 - val2)\\n            elif token == \\\"*\\\":\\n                math_stack.push(val1 * val2)\\n            elif token == \\\"/\\\":\\n                math_stack.push(val1 / val2)\\n\\n    return math_stack.tail.data\";\n",
       "                var nbb_cells = Jupyter.notebook.get_cells();\n",
       "                for (var i = 0; i < nbb_cells.length; ++i) {\n",
       "                    if (nbb_cells[i].input_prompt_number == nbb_cell_id) {\n",
       "                        if (nbb_cells[i].get_text() == nbb_unformatted_code) {\n",
       "                             nbb_cells[i].set_text(nbb_formatted_code);\n",
       "                        }\n",
       "                        break;\n",
       "                    }\n",
       "                }\n",
       "            }, 500);\n",
       "            "
      ],
      "text/plain": [
       "<IPython.core.display.Javascript object>"
      ]
     },
     "metadata": {},
     "output_type": "display_data"
    }
   ],
   "source": [
    "def execute_postfix(postfix_str):\n",
    "\n",
    "    tokens = tokenize(postfix_str)\n",
    "    math_stack = Stack()\n",
    "\n",
    "    for token in tokens:\n",
    "        if token.isnumeric():\n",
    "            math_stack.push(float(token))\n",
    "        else:\n",
    "            val2 = math_stack.pop()\n",
    "            val1 = math_stack.pop()\n",
    "\n",
    "            if token == \"+\":\n",
    "                math_stack.push(val1 + val2)\n",
    "            elif token == \"-\":\n",
    "                math_stack.push(val1 - val2)\n",
    "            elif token == \"*\":\n",
    "                math_stack.push(val1 * val2)\n",
    "            elif token == \"/\":\n",
    "                math_stack.push(val1 / val2)\n",
    "\n",
    "    return math_stack.tail.data"
   ]
  },
  {
   "cell_type": "markdown",
   "metadata": {},
   "source": [
    "#### Testing `execute_postfix`"
   ]
  },
  {
   "cell_type": "code",
   "execution_count": 6,
   "metadata": {},
   "outputs": [
    {
     "name": "stdout",
     "output_type": "stream",
     "text": [
      "-2.0\n",
      "8.0\n",
      "0.0\n",
      "2.0\n",
      "11.25\n",
      "42.0\n"
     ]
    },
    {
     "data": {
      "application/javascript": [
       "\n",
       "            setTimeout(function() {\n",
       "                var nbb_cell_id = 6;\n",
       "                var nbb_unformatted_code = \"expressions = [\\n    \\\"4 6 -\\\",\\n    \\\"4 1 2 9 3 / * + 5 - *\\\",\\n    \\\"1 2 + 3 -\\\",\\n    \\\"1 2 - 3 +\\\",\\n    \\\"10 3 5 * 16 4 - / +\\\",\\n    \\\"12 2 4 + / 21 *\\\",\\n]\\n\\nfor expression in expressions:\\n    print(execute_postfix(expression))\";\n",
       "                var nbb_formatted_code = \"expressions = [\\n    \\\"4 6 -\\\",\\n    \\\"4 1 2 9 3 / * + 5 - *\\\",\\n    \\\"1 2 + 3 -\\\",\\n    \\\"1 2 - 3 +\\\",\\n    \\\"10 3 5 * 16 4 - / +\\\",\\n    \\\"12 2 4 + / 21 *\\\",\\n]\\n\\nfor expression in expressions:\\n    print(execute_postfix(expression))\";\n",
       "                var nbb_cells = Jupyter.notebook.get_cells();\n",
       "                for (var i = 0; i < nbb_cells.length; ++i) {\n",
       "                    if (nbb_cells[i].input_prompt_number == nbb_cell_id) {\n",
       "                        if (nbb_cells[i].get_text() == nbb_unformatted_code) {\n",
       "                             nbb_cells[i].set_text(nbb_formatted_code);\n",
       "                        }\n",
       "                        break;\n",
       "                    }\n",
       "                }\n",
       "            }, 500);\n",
       "            "
      ],
      "text/plain": [
       "<IPython.core.display.Javascript object>"
      ]
     },
     "metadata": {},
     "output_type": "display_data"
    }
   ],
   "source": [
    "expressions = [\n",
    "    \"4 6 -\",\n",
    "    \"4 1 2 9 3 / * + 5 - *\",\n",
    "    \"1 2 + 3 -\",\n",
    "    \"1 2 - 3 +\",\n",
    "    \"10 3 5 * 16 4 - / +\",\n",
    "    \"12 2 4 + / 21 *\",\n",
    "]\n",
    "\n",
    "for expression in expressions:\n",
    "    print(execute_postfix(expression))"
   ]
  },
  {
   "cell_type": "markdown",
   "metadata": {},
   "source": [
    "#### Observations:\n",
    "- We are on the right track.  The function is able to execute in the correct order when the expression is a postfix string."
   ]
  },
  {
   "cell_type": "markdown",
   "metadata": {},
   "source": [
    "### Evaluating Infix Expressions (with spaces between tokens)"
   ]
  },
  {
   "cell_type": "markdown",
   "metadata": {},
   "source": [
    "#### Implementing Shunting-yard Algorithm with Function to Convert Infix to Postfix"
   ]
  },
  {
   "cell_type": "code",
   "execution_count": 7,
   "metadata": {},
   "outputs": [
    {
     "data": {
      "text/plain": [
       "'12 2 4 + / 21 *'"
      ]
     },
     "execution_count": 7,
     "metadata": {},
     "output_type": "execute_result"
    },
    {
     "data": {
      "application/javascript": [
       "\n",
       "            setTimeout(function() {\n",
       "                var nbb_cell_id = 7;\n",
       "                var nbb_unformatted_code = \"# Creating precedence dictionary\\nprecedence = {\\n    \\\"+\\\": 1,\\n    \\\"-\\\": 1,\\n    \\\"*\\\": 2,\\n    \\\"/\\\": 2,\\n}\\n\\n\\ndef infix_to_postfix(infix_str):\\n\\n    tokens = tokenize(infix_str)\\n    operators = [\\\"+\\\", \\\"-\\\", \\\"*\\\", \\\"/\\\"]\\n    temp_stack = Stack()\\n    postfix = []\\n\\n    for token in tokens:\\n        if token == \\\"(\\\":\\n            temp_stack.push(token)\\n        elif token == \\\")\\\":\\n            while temp_stack.peek() != \\\"(\\\":\\n                postfix.append(temp_stack.pop())\\n            temp_stack.pop()\\n        elif token in operators:\\n            while (\\n                temp_stack.length > 0\\n                and temp_stack.peek() in operators\\n                and precedence[temp_stack.tail.data] >= precedence[token]\\n            ):\\n                postfix.append(temp_stack.pop())\\n            temp_stack.push(token)\\n        elif token.isnumeric():\\n            postfix.append(token)\\n    while temp_stack.length > 0:\\n        postfix.append(temp_stack.pop())\\n\\n    return \\\" \\\".join(postfix)\\n\\n\\n# Testing expression\\nexpression = \\\"12 / ( 2 + 4 ) * 21\\\"\\ninfix_to_postfix(expression)\";\n",
       "                var nbb_formatted_code = \"# Creating precedence dictionary\\nprecedence = {\\n    \\\"+\\\": 1,\\n    \\\"-\\\": 1,\\n    \\\"*\\\": 2,\\n    \\\"/\\\": 2,\\n}\\n\\n\\ndef infix_to_postfix(infix_str):\\n\\n    tokens = tokenize(infix_str)\\n    operators = [\\\"+\\\", \\\"-\\\", \\\"*\\\", \\\"/\\\"]\\n    temp_stack = Stack()\\n    postfix = []\\n\\n    for token in tokens:\\n        if token == \\\"(\\\":\\n            temp_stack.push(token)\\n        elif token == \\\")\\\":\\n            while temp_stack.peek() != \\\"(\\\":\\n                postfix.append(temp_stack.pop())\\n            temp_stack.pop()\\n        elif token in operators:\\n            while (\\n                temp_stack.length > 0\\n                and temp_stack.peek() in operators\\n                and precedence[temp_stack.tail.data] >= precedence[token]\\n            ):\\n                postfix.append(temp_stack.pop())\\n            temp_stack.push(token)\\n        elif token.isnumeric():\\n            postfix.append(token)\\n    while temp_stack.length > 0:\\n        postfix.append(temp_stack.pop())\\n\\n    return \\\" \\\".join(postfix)\\n\\n\\n# Testing expression\\nexpression = \\\"12 / ( 2 + 4 ) * 21\\\"\\ninfix_to_postfix(expression)\";\n",
       "                var nbb_cells = Jupyter.notebook.get_cells();\n",
       "                for (var i = 0; i < nbb_cells.length; ++i) {\n",
       "                    if (nbb_cells[i].input_prompt_number == nbb_cell_id) {\n",
       "                        if (nbb_cells[i].get_text() == nbb_unformatted_code) {\n",
       "                             nbb_cells[i].set_text(nbb_formatted_code);\n",
       "                        }\n",
       "                        break;\n",
       "                    }\n",
       "                }\n",
       "            }, 500);\n",
       "            "
      ],
      "text/plain": [
       "<IPython.core.display.Javascript object>"
      ]
     },
     "metadata": {},
     "output_type": "display_data"
    }
   ],
   "source": [
    "# Creating precedence dictionary\n",
    "precedence = {\n",
    "    \"+\": 1,\n",
    "    \"-\": 1,\n",
    "    \"*\": 2,\n",
    "    \"/\": 2,\n",
    "}\n",
    "\n",
    "\n",
    "def infix_to_postfix(infix_str):\n",
    "\n",
    "    tokens = tokenize(infix_str)\n",
    "    operators = [\"+\", \"-\", \"*\", \"/\"]\n",
    "    temp_stack = Stack()\n",
    "    postfix = []\n",
    "\n",
    "    for token in tokens:\n",
    "        if token == \"(\":\n",
    "            temp_stack.push(token)\n",
    "        elif token == \")\":\n",
    "            while temp_stack.peek() != \"(\":\n",
    "                postfix.append(temp_stack.pop())\n",
    "            temp_stack.pop()\n",
    "        elif token in operators:\n",
    "            while (\n",
    "                temp_stack.length > 0\n",
    "                and temp_stack.peek() in operators\n",
    "                and precedence[temp_stack.tail.data] >= precedence[token]\n",
    "            ):\n",
    "                postfix.append(temp_stack.pop())\n",
    "            temp_stack.push(token)\n",
    "        elif token.isnumeric():\n",
    "            postfix.append(token)\n",
    "    while temp_stack.length > 0:\n",
    "        postfix.append(temp_stack.pop())\n",
    "\n",
    "    return \" \".join(postfix)\n",
    "\n",
    "\n",
    "# Testing expression\n",
    "expression = \"12 / ( 2 + 4 ) * 21\"\n",
    "infix_to_postfix(expression)"
   ]
  },
  {
   "cell_type": "markdown",
   "metadata": {},
   "source": [
    "### Combining `infix_to_postfix` and `execute_postfix` Functions"
   ]
  },
  {
   "cell_type": "code",
   "execution_count": 8,
   "metadata": {},
   "outputs": [
    {
     "data": {
      "text/plain": [
       "42.0"
      ]
     },
     "execution_count": 8,
     "metadata": {},
     "output_type": "execute_result"
    },
    {
     "data": {
      "application/javascript": [
       "\n",
       "            setTimeout(function() {\n",
       "                var nbb_cell_id = 8;\n",
       "                var nbb_unformatted_code = \"def execute_infix(expression):\\n    return execute_postfix(infix_to_postfix(expression))\\n\\n\\n# Testing expression\\nexpression = \\\"12 / ( 2 + 4 ) * 21\\\"\\nexecute_infix(expression)\";\n",
       "                var nbb_formatted_code = \"def execute_infix(expression):\\n    return execute_postfix(infix_to_postfix(expression))\\n\\n\\n# Testing expression\\nexpression = \\\"12 / ( 2 + 4 ) * 21\\\"\\nexecute_infix(expression)\";\n",
       "                var nbb_cells = Jupyter.notebook.get_cells();\n",
       "                for (var i = 0; i < nbb_cells.length; ++i) {\n",
       "                    if (nbb_cells[i].input_prompt_number == nbb_cell_id) {\n",
       "                        if (nbb_cells[i].get_text() == nbb_unformatted_code) {\n",
       "                             nbb_cells[i].set_text(nbb_formatted_code);\n",
       "                        }\n",
       "                        break;\n",
       "                    }\n",
       "                }\n",
       "            }, 500);\n",
       "            "
      ],
      "text/plain": [
       "<IPython.core.display.Javascript object>"
      ]
     },
     "metadata": {},
     "output_type": "display_data"
    }
   ],
   "source": [
    "def execute_infix(expression):\n",
    "    return execute_postfix(infix_to_postfix(expression))\n",
    "\n",
    "\n",
    "# Testing expression\n",
    "expression = \"12 / ( 2 + 4 ) * 21\"\n",
    "execute_infix(expression)"
   ]
  },
  {
   "cell_type": "markdown",
   "metadata": {},
   "source": [
    "#### Testing on Additional Expressions"
   ]
  },
  {
   "cell_type": "code",
   "execution_count": 9,
   "metadata": {},
   "outputs": [
    {
     "name": "stdout",
     "output_type": "stream",
     "text": [
      "2.0\n",
      "0.0\n",
      "8.0\n",
      "11.25\n",
      "256.0\n",
      "0.5\n",
      "9.0\n",
      "9.0\n"
     ]
    },
    {
     "data": {
      "application/javascript": [
       "\n",
       "            setTimeout(function() {\n",
       "                var nbb_cell_id = 9;\n",
       "                var nbb_unformatted_code = \"expressions = [\\n    \\\"1 + 1\\\",\\n    \\\"1 * ( 2 - ( 1 + 1 ) )\\\",\\n    \\\"4 * ( 1 + 2 * ( 9 / 3 ) - 5 )\\\",\\n    \\\"10 + 3 * 5 / ( 16 - 4 * 1 )\\\",\\n    \\\"2 * 2 * 2 * 2 * 2 * 2 * 2 * 2\\\",\\n    \\\"( 1 - 2 ) / ( 3 - 5 )\\\",\\n    \\\"9 / 8 * 8\\\",\\n    \\\"9 / 8 * 8\\\",\\n]\\nfor expression in expressions:\\n    print(execute_infix(expression))\";\n",
       "                var nbb_formatted_code = \"expressions = [\\n    \\\"1 + 1\\\",\\n    \\\"1 * ( 2 - ( 1 + 1 ) )\\\",\\n    \\\"4 * ( 1 + 2 * ( 9 / 3 ) - 5 )\\\",\\n    \\\"10 + 3 * 5 / ( 16 - 4 * 1 )\\\",\\n    \\\"2 * 2 * 2 * 2 * 2 * 2 * 2 * 2\\\",\\n    \\\"( 1 - 2 ) / ( 3 - 5 )\\\",\\n    \\\"9 / 8 * 8\\\",\\n    \\\"9 / 8 * 8\\\",\\n]\\nfor expression in expressions:\\n    print(execute_infix(expression))\";\n",
       "                var nbb_cells = Jupyter.notebook.get_cells();\n",
       "                for (var i = 0; i < nbb_cells.length; ++i) {\n",
       "                    if (nbb_cells[i].input_prompt_number == nbb_cell_id) {\n",
       "                        if (nbb_cells[i].get_text() == nbb_unformatted_code) {\n",
       "                             nbb_cells[i].set_text(nbb_formatted_code);\n",
       "                        }\n",
       "                        break;\n",
       "                    }\n",
       "                }\n",
       "            }, 500);\n",
       "            "
      ],
      "text/plain": [
       "<IPython.core.display.Javascript object>"
      ]
     },
     "metadata": {},
     "output_type": "display_data"
    }
   ],
   "source": [
    "expressions = [\n",
    "    \"1 + 1\",\n",
    "    \"1 * ( 2 - ( 1 + 1 ) )\",\n",
    "    \"4 * ( 1 + 2 * ( 9 / 3 ) - 5 )\",\n",
    "    \"10 + 3 * 5 / ( 16 - 4 * 1 )\",\n",
    "    \"2 * 2 * 2 * 2 * 2 * 2 * 2 * 2\",\n",
    "    \"( 1 - 2 ) / ( 3 - 5 )\",\n",
    "    \"9 / 8 * 8\",\n",
    "    \"9 / 8 * 8\",\n",
    "]\n",
    "for expression in expressions:\n",
    "    print(execute_infix(expression))"
   ]
  },
  {
   "cell_type": "markdown",
   "metadata": {},
   "source": [
    "#### Comparing Results to Python's Built-in `eval()` Function"
   ]
  },
  {
   "cell_type": "code",
   "execution_count": 11,
   "metadata": {},
   "outputs": [
    {
     "name": "stdout",
     "output_type": "stream",
     "text": [
      "2\n",
      "0\n",
      "8.0\n",
      "11.25\n",
      "256\n",
      "0.5\n",
      "9.0\n",
      "9.0\n"
     ]
    },
    {
     "data": {
      "application/javascript": [
       "\n",
       "            setTimeout(function() {\n",
       "                var nbb_cell_id = 11;\n",
       "                var nbb_unformatted_code = \"for expression in expressions:\\n    print(eval(expression))\";\n",
       "                var nbb_formatted_code = \"for expression in expressions:\\n    print(eval(expression))\";\n",
       "                var nbb_cells = Jupyter.notebook.get_cells();\n",
       "                for (var i = 0; i < nbb_cells.length; ++i) {\n",
       "                    if (nbb_cells[i].input_prompt_number == nbb_cell_id) {\n",
       "                        if (nbb_cells[i].get_text() == nbb_unformatted_code) {\n",
       "                             nbb_cells[i].set_text(nbb_formatted_code);\n",
       "                        }\n",
       "                        break;\n",
       "                    }\n",
       "                }\n",
       "            }, 500);\n",
       "            "
      ],
      "text/plain": [
       "<IPython.core.display.Javascript object>"
      ]
     },
     "metadata": {},
     "output_type": "display_data"
    }
   ],
   "source": [
    "for expression in expressions:\n",
    "    print(eval(expression))"
   ]
  },
  {
   "cell_type": "markdown",
   "metadata": {},
   "source": [
    "#### Conclusion:\n",
    "- By leveraging stack data structures, we were able to reproduce execution of basic arithmetic string expressions with defined spacing."
   ]
  }
 ],
 "metadata": {
  "kernelspec": {
   "display_name": "Python 3 (ipykernel)",
   "language": "python",
   "name": "python3"
  },
  "language_info": {
   "codemirror_mode": {
    "name": "ipython",
    "version": 3
   },
   "file_extension": ".py",
   "mimetype": "text/x-python",
   "name": "python",
   "nbconvert_exporter": "python",
   "pygments_lexer": "ipython3",
   "version": "3.9.12"
  }
 },
 "nbformat": 4,
 "nbformat_minor": 1
}
