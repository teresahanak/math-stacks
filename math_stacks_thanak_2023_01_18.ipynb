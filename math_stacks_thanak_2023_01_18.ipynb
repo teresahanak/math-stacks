{
 "cells": [
  {
   "cell_type": "markdown",
   "metadata": {},
   "source": [
    "# Math Stacks\n",
    "**An example project illustrating implementation of stack data structures to evaluate arithmetical expressions from strings such as \"12 / ( 2 + 4 ) * 21\"**"
   ]
  },
  {
   "cell_type": "markdown",
   "metadata": {
    "collapsed": true
   },
   "source": [
    "### Import LinkedList Implementation from `math_stacks_linked_list.py`"
   ]
  },
  {
   "cell_type": "code",
   "execution_count": 1,
   "metadata": {},
   "outputs": [],
   "source": [
    "from math_stacks_linked_list import Node, LinkedList"
   ]
  },
  {
   "cell_type": "markdown",
   "metadata": {},
   "source": [
    "### Stack Implementation"
   ]
  },
  {
   "cell_type": "code",
   "execution_count": 2,
   "metadata": {},
   "outputs": [],
   "source": [
    "class Stack(LinkedList):\n",
    "    \n",
    "    def push(self, value):\n",
    "        self.append(value)\n",
    "        \n",
    "    def peek(self):\n",
    "        return self.tail.data\n",
    "        \n",
    "    def pop(self):\n",
    "        ret = self.tail.data\n",
    "        if self.length == 1:\n",
    "            self.head = self.tail = None\n",
    "        else:            \n",
    "            self.tail = self.tail.prev\n",
    "            self.tail.next = None\n",
    "        self.length -= 1\n",
    "        return ret"
   ]
  },
  {
   "cell_type": "markdown",
   "metadata": {},
   "source": [
    "### Functions to Evaluate Postfix Expressions"
   ]
  },
  {
   "cell_type": "markdown",
   "metadata": {},
   "source": [
    "#### Defining `tokenize` Function to Convert Postfix String Expression into List of Tokens"
   ]
  },
  {
   "cell_type": "code",
   "execution_count": 3,
   "metadata": {},
   "outputs": [
    {
     "name": "stdout",
     "output_type": "stream",
     "text": [
      "['12', '2', '4', '+', '/', '21', '*']\n"
     ]
    }
   ],
   "source": [
    "# Assumes spaces between all elements of expression\n",
    "def tokenize(postfix_str):\n",
    "    return postfix_str.split()\n",
    "\n",
    "# Testing tokenize\n",
    "expression = \"12 2 4 + / 21 *\"\n",
    "tokens = expression.split()\n",
    "print(tokens)"
   ]
  },
  {
   "cell_type": "markdown",
   "metadata": {},
   "source": [
    "#### Defining `execute_postfix` to Perform Arithmetic Operations on Postfix String Expression"
   ]
  },
  {
   "cell_type": "code",
   "execution_count": 8,
   "metadata": {},
   "outputs": [
    {
     "data": {
      "text/plain": [
       "12"
      ]
     },
     "execution_count": 8,
     "metadata": {},
     "output_type": "execute_result"
    }
   ],
   "source": [
    "def execute_postfix(postfix_str):\n",
    "    \n",
    "    tokens = tokenize(postfix_str)\n",
    "    math_stack = Stack()\n",
    "    \n",
    "    for token in tokens:\n",
    "        if token.isnumeric:\n",
    "            math_stack.push(token)\n",
    "        else:\n",
    "            val2 = math_stack.pop()\n",
    "            val1 = math_stack.pop()\n",
    "\n",
    "            if token == '+':\n",
    "                math_stack.push(val1 + val2)\n",
    "            elif token == '-':\n",
    "                math_stack.push(val1 - val2)\n",
    "            elif token == '*':\n",
    "                math_stack.push(val1 * val2)\n",
    "            elif token == '/':\n",
    "                math_stack.push(val1 / val2)\n",
    "\n",
    "        return int(math_stack.head.data)\n",
    "    \n",
    "# Testing execute_postfix\n",
    "expression = \"12 2 4 + / 21 *\"\n",
    "execute_postfix(expression)"
   ]
  },
  {
   "cell_type": "markdown",
   "metadata": {},
   "source": [
    "#### Observations:\n",
    "- So far, so good.  The function is able to execute properly when the expression is a postfix string, excluding parentheses."
   ]
  },
  {
   "cell_type": "code",
   "execution_count": null,
   "metadata": {},
   "outputs": [],
   "source": []
  }
 ],
 "metadata": {
  "kernelspec": {
   "display_name": "Python 3 (ipykernel)",
   "language": "python",
   "name": "python3"
  },
  "language_info": {
   "codemirror_mode": {
    "name": "ipython",
    "version": 3
   },
   "file_extension": ".py",
   "mimetype": "text/x-python",
   "name": "python",
   "nbconvert_exporter": "python",
   "pygments_lexer": "ipython3",
   "version": "3.9.12"
  }
 },
 "nbformat": 4,
 "nbformat_minor": 1
}
